{
 "cells": [
  {
   "cell_type": "code",
   "execution_count": 1,
   "metadata": {},
   "outputs": [],
   "source": [
    "# importing libraries\n",
    "import nltk\n",
    "from urllib import request\n",
    "from bs4 import BeautifulSoup as bs\n",
    "import re"
   ]
  },
  {
   "cell_type": "code",
   "execution_count": 2,
   "metadata": {},
   "outputs": [],
   "source": [
    "# the link for the document\n",
    "url=\"https://en.wikipedia.org/wiki/Narendra_Modi\""
   ]
  },
  {
   "cell_type": "code",
   "execution_count": 3,
   "metadata": {},
   "outputs": [],
   "source": [
    "hd=request.urlopen(url)    # variable to process request"
   ]
  },
  {
   "cell_type": "code",
   "execution_count": 4,
   "metadata": {},
   "outputs": [],
   "source": [
    "sp=bs(hd,\"html.parser\")    # creating a soup object"
   ]
  },
  {
   "cell_type": "code",
   "execution_count": 5,
   "metadata": {},
   "outputs": [],
   "source": [
    "para=sp.find_all(\"p\")     # to find the paragraphs only"
   ]
  },
  {
   "cell_type": "code",
   "execution_count": 6,
   "metadata": {},
   "outputs": [],
   "source": [
    "#para"
   ]
  },
  {
   "cell_type": "code",
   "execution_count": 7,
   "metadata": {},
   "outputs": [],
   "source": [
    "# initializing an empty string\n",
    "allpara=\"\""
   ]
  },
  {
   "cell_type": "code",
   "execution_count": 8,
   "metadata": {},
   "outputs": [],
   "source": [
    "# loop to store all the paragraphs into a variable\n",
    "for i in para:\n",
    "    allpara+=i.text\n",
    "#print(allpara)"
   ]
  },
  {
   "cell_type": "code",
   "execution_count": 9,
   "metadata": {},
   "outputs": [
    {
     "data": {
      "text/plain": [
       "\"Early political career\\nPremiership\\nBudgets\\n\\nProjects\\nCampaigns\\nMissions\\nEstablishments and foundations\\nEvents and observances\\nMilitary and rescue operations\\nTreaties and accords\\n\\nEstablishments and foundations\\nEvents and observances\\nMilitary and rescue operations\\nTreaties and accords\\n\\nNarendra Damodardas Modi (Gujarati:\\xa0[ˈnəɾendɾə dɑmodəɾˈdɑs ˈmodiː] (listen); born 17 September 1950)[a] is an Indian politician serving as the 14th and current prime minister of India since 2014. He was the chief minister of Gujarat from 2001 to 2014 and is the Member of Parliament for Varanasi. Modi is a member of the Bharatiya Janata Party (BJP) and its National Democratic Alliance (NDA). He is also a member of the Rashtriya Swayamsevak Sangh (RSS), a Hindu nationalist volunteer organisation. He is the first prime minister born after India's independence, the second non-Congress one to win two consecutive terms after Atal Bihari Vajpayee and the first from outside the Congress to win both terms with a majority in the Lok Sabha.[3]\\nBorn and raised in Vadnagar, a small town in northeastern Gujarat, Modi completed his secondary education there, and is said to have helped his father sell tea at the local railway station.  He was introduced to the RSS at age eight.[4] Modi left home after finishing high-school in part due to child marriage to Jashodaben Chimanlal Modi, which he publicly acknowledged only many decades later. Modi travelled around India for two years and visited a number of religious centres before returning to Gujarat. In 1971 he became a full-time worker for the RSS. During the state of emergency imposed across the country in 1975, Modi was forced to go into hiding. The RSS assigned him to the BJP in 1985 and he held several positions within the party hierarchy until 2001, rising to the rank of general secretary.[b]\\nModi was appointed Chief Minister of Gujarat in 2001 due to Keshubhai Patel's failing health and poor public image following the earthquake in Bhuj. Modi was elected to the legislative assembly soon after. His administration has been considered complicit in the 2002 Gujarat riots,[c] or otherwise criticised for its handling of it. A Supreme Court-appointed Special Investigation Team found no evidence to initiate prosecution proceedings against Modi personally.[d] His policies as chief minister, credited with encouraging economic growth, have received praise.[15] His administration has been criticised for failing to significantly improve health, poverty and education indices in the state.[e]\\nModi led the BJP in the 2014 general election which gave the party a majority in the Indian lower house of parliament, the Lok Sabha, the first time for any single party since 1984. Modi's administration has tried to raise foreign direct investment in the Indian economy and reduced spending on healthcare and social welfare programmes. Modi has attempted to improve efficiency in the bureaucracy; he has centralised power by abolishing the Planning Commission. He began a high-profile sanitation campaign, initiated a controversial demonetisation of high-denomination banknotes and weakened or abolished environmental and labour laws.\\nUnder Modi's tenure, India has experienced democratic backsliding.[f] Following his party's victory in the 2019 general election, his administration revoked the special status of Jammu and Kashmir. His administration also introduced the Citizenship Amendment Act, which resulted in widespread protests across the country. Described as engineering a political realignment towards right-wing politics, Modi remains a figure of controversy domestically and internationally over his Hindu nationalist beliefs and his alleged role during the 2002 Gujarat riots, cited as evidence of an exclusionary social agenda.[g]\\nNarendra Modi was born on 17 September 1950 to a Gujarati Hindu family of grocers in Vadnagar, Mehsana district, Bombay State (present-day Gujarat). He was the third of six children born to Damodardas Mulchand Modi (c. 1915–1989) and Hiraben Modi (born c. 1920).[24][a] Modi's family belonged to the Modh-Ghanchi-Teli (oil-presser) community,[25][26][27] which is categorised as an Other Backward Class by the Indian government.[28][29] He was falsely accused by Mayawati that he added his caste to the Other Backward Class (OBC) list as a political tool.[25][30]\\nAs a child, Modi is said to have helped his father sell tea at the Vadnagar railway station, and said that he later ran a tea stall with his brother near a bus terminus.[31] Modi completed his higher secondary education in Vadnagar in 1967, where a teacher described him as an average student and a keen debater, with interest in theatre.[32] Modi had an early gift for rhetoric in debates, and his teachers and students noted this.[33] Modi preferred playing larger-than-life characters in theatrical productions, which has influenced his political image.[34][35]\\nWhen eight years old, Modi discovered the Rashtriya Swayamsevak Sangh (RSS) and \""
      ]
     },
     "execution_count": 9,
     "metadata": {},
     "output_type": "execute_result"
    }
   ],
   "source": [
    "allpara[1:5000]"
   ]
  },
  {
   "cell_type": "code",
   "execution_count": 83,
   "metadata": {},
   "outputs": [],
   "source": [
    "# as we have square brackets in the text we have to clean it furter\n",
    "allpara_clean=re.sub(r\"\\[[0-9]*\\]\",\" \",allpara)\n",
    "allpara_clean=re.sub(r\"\\[[a-z]*\\]\",\" \",allpara_clean) #this will remove the [a-z] texts.\n",
    "allpara_clean=re.sub(r\"\\s+\",\" \",allpara_clean)"
   ]
  },
  {
   "cell_type": "code",
   "execution_count": 84,
   "metadata": {},
   "outputs": [
    {
     "data": {
      "text/plain": [
       "\"Early political career Premiership Budgets Projects Campaigns Missions Establishments and foundations Events and observances Military and rescue operations Treaties and accords Establishments and foundations Events and observances Military and rescue operations Treaties and accords Narendra Damodardas Modi (Gujarati: [ˈnəɾendɾə dɑmodəɾˈdɑs ˈmodiː] (listen); born 17 September 1950) is an Indian politician serving as the 14th and current prime minister of India since 2014. He was the chief minister of Gujarat from 2001 to 2014 and is the Member of Parliament for Varanasi. Modi is a member of the Bharatiya Janata Party (BJP) and its National Democratic Alliance (NDA). He is also a member of the Rashtriya Swayamsevak Sangh (RSS), a Hindu nationalist volunteer organisation. He is the first prime minister born after India's independence, the second non-Congress one to win two consecutive terms after Atal Bihari Vajpayee and the first from outside the Congress to win both terms with a majority in the Lok Sabha. Born and raised in Vadnagar, a small town in northeastern Gujarat, Modi completed his secondary education there, and is said to have helped his father sell tea at the local railway station. He was introduced to the RSS at age eight. Modi left home after finishing high-school in part due to child marriage to Jashodaben Chimanlal Modi, which he publicly acknowledged only many decades later. Modi travelled around India for two years and visited a number of religious centres before returning to Gujarat. In 1971 he became a full-time worker for the RSS. During the state of emergency imposed across the country in 1975, Modi was forced to go into hiding. The RSS assigned him to the BJP in 1985 and he held several positions within the party hierarchy until 2001, rising to the rank of general secretary. Modi was appointed Chief Minister of Gujarat in 2001 due to Keshubhai Patel's failing health and poor public image following the earthquake in Bhuj. Modi was elected to the legislative assembly soon after. His administration has been considered complicit in the 2002 Gujarat riots, or otherwise criticised for its handling of it. A Supreme Court-appointed Special Investigation Team found no evidence to initiate prosecution proceedings against Modi personally. His policies as chief minister, credited with encouraging economic growth, have received praise. His administration has been criticised for failing to significantly improve health, poverty and education indices in the state. Modi led the BJP in the 2014 general election which gave the party a majority in the Indian lower house of parliament, the Lok Sabha, the first time for any single party since 1984. Modi's administration has tried to raise foreign direct investment in the Indian economy and reduced spending on healthcare and social welfare programmes. Modi has attempted to improve efficiency in the bureaucracy; he has centralised power by abolishing the Planning Commission. He began a high-profile sanitation campaign, initiated a controversial demonetisation of high-denomination banknotes and weakened or abolished environmental and labour laws. Under Modi's tenure, India has experienced democratic backsliding. Following his party's victory in the 2019 general election, his administration revoked the special status of Jammu and Kashmir. His administration also introduced the Citizenship Amendment Act, which resulted in widespread protests across the country. Described as engineering a political realignment towards right-wing politics, Modi remains a figure of controversy domestically and internationally over his Hindu nationalist beliefs and his alleged role during the 2002 Gujarat riots, cited as evidence of an exclusionary social agenda. Narendra Modi was born on 17 September 1950 to a Gujarati Hindu family of grocers in Vadnagar, Mehsana district, Bombay State (present-day Gujarat). He was the third of six children born to Damodardas Mulchand Modi (c. 1915–1989) and Hiraben Modi (born c. 1920). Modi's family belonged to the Modh-Ghanchi-Teli (oil-presser) community, which is categorised as an Other Backward Class by the Indian government. He was falsely accused by Mayawati that he added his caste to the Other Backward Class (OBC) list as a political tool. As a child, Modi is said to have helped his father sell tea at the Vadnagar railway station, and said that he later ran a tea stall with his brother near a bus terminus. Modi completed his higher secondary education in Vadnagar in 1967, where a teacher described him as an average student and a keen debater, with interest in theatre. Modi had an early gift for rhetoric in debates, and his teachers and students noted this. Modi preferred playing larger-than-life characters in theatrical productions, which has influenced his political image. When eight years old, Modi discovered the Rashtriya Swayamsevak Sangh (RSS) and began attending its local shakhas (training sessions). There, Modi met Lakshmanrao Inamdar\""
      ]
     },
     "execution_count": 84,
     "metadata": {},
     "output_type": "execute_result"
    }
   ],
   "source": [
    "allpara_clean[1:5000]"
   ]
  },
  {
   "cell_type": "code",
   "execution_count": 85,
   "metadata": {},
   "outputs": [],
   "source": [
    "# creating sentence tokens\n",
    "sent=nltk.sent_tokenize(allpara_clean)"
   ]
  },
  {
   "cell_type": "code",
   "execution_count": 114,
   "metadata": {},
   "outputs": [
    {
     "data": {
      "text/plain": [
       "[' Early political career Premiership Budgets Projects Campaigns Missions Establishments and foundations Events and observances Military and rescue operations Treaties and accords Establishments and foundations Events and observances Military and rescue operations Treaties and accords Narendra Damodardas Modi (Gujarati: [ˈnəɾendɾə dɑmodəɾˈdɑs ˈmodiː] (listen); born 17 September 1950) is an Indian politician serving as the 14th and current prime minister of India since 2014.',\n",
       " 'He was the chief minister of Gujarat from 2001 to 2014 and is the Member of Parliament for Varanasi.',\n",
       " 'Modi is a member of the Bharatiya Janata Party (BJP) and its National Democratic Alliance (NDA).',\n",
       " 'He is also a member of the Rashtriya Swayamsevak Sangh (RSS), a Hindu nationalist volunteer organisation.',\n",
       " \"He is the first prime minister born after India's independence, the second non-Congress one to win two consecutive terms after Atal Bihari Vajpayee and the first from outside the Congress to win both terms with a majority in the Lok Sabha.\",\n",
       " 'Born and raised in Vadnagar, a small town in northeastern Gujarat, Modi completed his secondary education there, and is said to have helped his father sell tea at the local railway station.',\n",
       " 'He was introduced to the RSS at age eight.',\n",
       " 'Modi left home after finishing high-school in part due to child marriage to Jashodaben Chimanlal Modi, which he publicly acknowledged only many decades later.',\n",
       " 'Modi travelled around India for two years and visited a number of religious centres before returning to Gujarat.',\n",
       " 'In 1971 he became a full-time worker for the RSS.',\n",
       " 'During the state of emergency imposed across the country in 1975, Modi was forced to go into hiding.',\n",
       " 'The RSS assigned him to the BJP in 1985 and he held several positions within the party hierarchy until 2001, rising to the rank of general secretary.',\n",
       " \"Modi was appointed Chief Minister of Gujarat in 2001 due to Keshubhai Patel's failing health and poor public image following the earthquake in Bhuj.\",\n",
       " 'Modi was elected to the legislative assembly soon after.',\n",
       " 'His administration has been considered complicit in the 2002 Gujarat riots, or otherwise criticised for its handling of it.',\n",
       " 'A Supreme Court-appointed Special Investigation Team found no evidence to initiate prosecution proceedings against Modi personally.',\n",
       " 'His policies as chief minister, credited with encouraging economic growth, have received praise.',\n",
       " 'His administration has been criticised for failing to significantly improve health, poverty and education indices in the state.',\n",
       " 'Modi led the BJP in the 2014 general election which gave the party a majority in the Indian lower house of parliament, the Lok Sabha, the first time for any single party since 1984.',\n",
       " \"Modi's administration has tried to raise foreign direct investment in the Indian economy and reduced spending on healthcare and social welfare programmes.\"]"
      ]
     },
     "execution_count": 114,
     "metadata": {},
     "output_type": "execute_result"
    }
   ],
   "source": [
    "sent[0:20]"
   ]
  },
  {
   "cell_type": "code",
   "execution_count": 100,
   "metadata": {},
   "outputs": [],
   "source": [
    "# Word tokenize\n",
    "wrd=nltk.word_tokenize(allpara_clean)"
   ]
  },
  {
   "cell_type": "code",
   "execution_count": 101,
   "metadata": {},
   "outputs": [],
   "source": [
    "# Removing stop words\n",
    "stp=nltk.corpus.stopwords.words(\"english\")\n",
    "#stp"
   ]
  },
  {
   "cell_type": "code",
   "execution_count": 102,
   "metadata": {},
   "outputs": [],
   "source": [
    "word_freq={}"
   ]
  },
  {
   "cell_type": "code",
   "execution_count": 103,
   "metadata": {},
   "outputs": [],
   "source": [
    "for word in wrd:\n",
    "    if word not in stp:\n",
    "        if word not in word_freq.keys():\n",
    "            word_freq[word]=1\n",
    "        else:\n",
    "            word_freq[word]+=1"
   ]
  },
  {
   "cell_type": "code",
   "execution_count": 104,
   "metadata": {},
   "outputs": [],
   "source": [
    "#print(word_freq)"
   ]
  },
  {
   "cell_type": "code",
   "execution_count": 105,
   "metadata": {},
   "outputs": [
    {
     "data": {
      "text/plain": [
       "516"
      ]
     },
     "execution_count": 105,
     "metadata": {},
     "output_type": "execute_result"
    }
   ],
   "source": [
    "# Calculating the weighted frequency and taking out words with maximum frequency\n",
    "max_freq=max(word_freq.values())\n",
    "max_freq"
   ]
  },
  {
   "cell_type": "code",
   "execution_count": 106,
   "metadata": {},
   "outputs": [],
   "source": [
    "# loop to calculate weighted frequency that is divinding each frequency with maximum frequency\n",
    "for word in word_freq.keys():\n",
    "    word_freq[word]=(word_freq[word]/max_freq)\n",
    "#print(word_freq)"
   ]
  },
  {
   "cell_type": "code",
   "execution_count": 107,
   "metadata": {},
   "outputs": [
    {
     "data": {
      "text/plain": [
       "0.013565891472868217"
      ]
     },
     "execution_count": 107,
     "metadata": {},
     "output_type": "execute_result"
    }
   ],
   "source": [
    "word_freq.get(\"Narendra\")"
   ]
  },
  {
   "cell_type": "code",
   "execution_count": 108,
   "metadata": {},
   "outputs": [],
   "source": [
    "# calculating sentence scores\n",
    "sent_sc={}\n",
    "for i in sent:\n",
    "    for word in nltk.word_tokenize(i.lower()):\n",
    "        if word in word_freq.keys():\n",
    "            if (len(i.split(\" \")))<30:    # just considering those sentences that have less than 30 words\n",
    "                if i not in sent_sc.keys():\n",
    "                    sent_sc[i]=word_freq[word]      \n",
    "                else:\n",
    "                    sent_sc[i]+=word_freq[word]     # adding up the word frquencies in a sentence to calculate score"
   ]
  },
  {
   "cell_type": "code",
   "execution_count": 109,
   "metadata": {},
   "outputs": [],
   "source": [
    "#sent_sc"
   ]
  },
  {
   "cell_type": "code",
   "execution_count": 110,
   "metadata": {},
   "outputs": [],
   "source": [
    "# now printing top 50 sentences\n",
    "import heapq\n",
    "summary=heapq.nlargest(50,sent_sc,key=sent_sc.get)\n",
    "summary=\"\".join(summary)"
   ]
  },
  {
   "cell_type": "code",
   "execution_count": 111,
   "metadata": {},
   "outputs": [
    {
     "data": {
      "text/plain": [
       "'Under Modi\\'s tenure, India has experienced democratic backsliding.On 9 November 2016, the government demonetised ₹500 and ₹1000 banknotes, with the stated intention of curbing corruption, black money, the use of counterfeit currency, and terrorism.Modi\\'s foreign policy, similarly to that of the preceding INC government, focused on improving economic ties, security, and regional relations.The following year, Shankersinh Vaghela, a prominent BJP leader from Gujarat, defected to the Indian National Congress (Congress, INC) after losing his parliamentary seat in the Lok Sabha elections.The government also lowered corporate taxes, abolished the wealth tax, increased sales taxes, and reduced customs duties on gold, and jewellery.In 2014, 2015, 2017 and 2020, he was named one of Time magazine\\'s 100 Most Influential People in the World.Despite its growth rate, Gujarat had a relatively poor record on human development, poverty relief, nutrition and education during Modi\\'s tenure.In naming his cabinet, Modi renamed the \"Ministry of Environment and Forests\" the \"Ministry of Environment, Forests, and Climate Change.\"The BJP national leadership sought a new candidate for the chief ministership, and Modi, who had expressed misgivings about Patel\\'s administration, was chosen as a replacement.Due to the COVID-19 pandemic, numerous rating agencies downgraded India\\'s GDP predictions for FY21 to negative figures, signalling a recession in India, the most severe since 1979.In the next year, after 2018, Indian economy started a gradual recovery with a GDP growth of 6.12% in 2018-19 FY, with an inflation rate of 3.4%.As Chief Minister, Modi favoured privatisation and small government, which was at odds with the philosophy of the RSS, usually described as anti-privatisation and anti-globalisation.The social policies of the government generally did not benefit Muslims, Dalits, and Adivasis, and generally increased social inequalities.There, Modi met Lakshmanrao Inamdar, popularly known as Vakil Saheb, who inducted him as a balswayamsevak (junior cadet) in the RSS and became his political mentor.In 2014, Yellapragada Sudershan Rao, who had previously been associated with the RSS, became the chairperson of the Indian Council of Historical Research (ICHR).Five years later, in 1983, he received a Master of Arts degree in political science from Gujarat University, graduating with a first class as an external distance learning student.During this period, Modi wrote a book in Gujarati, Sangharsh Ma Gujarat (In The Struggles of Gujarat), describing events during the Emergency.In his travels during the Emergency, Modi was often forced to move in disguise, once dressing as a monk, and once as a Sikh.By December 2008, 500,000 structures had been built, of which 113,738 were check dams, which helped recharge the aquifers beneath them.Over the first four years of Modi\\'s premiership, India\\'s GDP grew at an average rate of 7.23%, higher than the rate of 6.39% under the previous government.The state\\'s GDP growth rate averaged 10% during Modi\\'s tenure, a value similar to other highly industrialised states, and above that of the country as a whole.Under the UPA government that preceded Modi\\'s administration, field trials of Genetically Modified (GM) crops had essentially been put on hold, after protests from farmers fearing for their livelihoods.Allegations of abuse of power, corruption and poor administration were made, and Patel\\'s standing had been damaged by his administration\\'s handling of the earthquake in Bhuj in 2001.After the November 2008 Mumbai attacks, Modi held a meeting to discuss the security of Gujarat\\'s 1,600-kilometre (990 mi)-long coastline, resulting in government authorisation of 30 high-speed surveillance boats.Several BJP leaders expressed opposition to Modi\\'s candidature, including BJP founding member L. K. Advani, who cited concern with leaders who were \"concerned with their personal agendas\".Gujarat also had a high rate of economic growth in the 1990s, before Modi took office, and scholars have stated that growth did not accelerate during Modi\\'s tenure.The reforms drew strong opposition from unions: on 2 September 2015, eleven of the country\\'s largest unions went on strike, including one affiliated with the BJP.While in the FY of 2019–20, due to the general election, Modi government focused more on their election campaign.Modi liberalised India\\'s foreign direct investment policies, allowing more foreign investment in several industries, including in defence and the railways.Though being high unemployment, increase in inflation rate and budget deficiency, Modi\\'s leadership won in 2019 elections.In the year 2018, end Party\\'s, second-biggest alliance Telugu Desam Party split from NDA over the matter of special-status for Andhra Pradesh.Modi, who was unanimously elected leader of the BJP, was appointed prime minister by India\\'s president.This represented a shift away from the policy of the previous Congress government, which had supported programmes to assist public health goals, including reducing child and maternal mortality rates.The level of income inequality increased, while an internal government report said that in 2017, unemployment had increased to its highest level in 45 years.There, Modi lived with his uncle, working in the latter\\'s canteen at the Gujarat State Road Transport Corporation.The SIT examined Ramachandran\\'s report, and in March 2012 submitted its final report, asking for the case to be closed.The budgetary allocation for the Sarva Shiksha Abhiyan, or the \"education for all\" programme, declined by 22%.Officials in the government, including the Home Minister, defended the conversion programmes.During this period, known as \"The Emergency\", many of her political opponents were jailed and opposition groups were banned.Modi\\'s personality has been variously described by scholars and biographers as energetic, arrogant, and charismatic.Despite opposition from the election commissioner, who said that a number of voters were still displaced, Modi succeeded in advancing the election to December 2002.During the 2014 election campaign the BJP projected an image of Modi as a strong, masculine leader, who would be able to take difficult decisions.Narendra Modi was born on 17 September 1950 to a Gujarati Hindu family of grocers in Vadnagar, Mehsana district, Bombay State (present-day Gujarat).In the subsequent year, the number of income tax returns filed for individuals rose by 25%, and the number of digital transactions increased steeply.In 2015, the Indian parliament ratified a land exchange deal with Bangladesh about the India–Bangladesh enclaves, which had been initiated by the government of Manmohan Singh.After the Indo-Pakistani War of 1971, he stopped working for his uncle and became a full-time pracharak (campaigner) for the RSS, working under Inamdar.Although Modi later denied it, he made significant use of anti-Muslim rhetoric during his campaign, and the BJP profited from religious polarisation among the voters.His policies as chief minister, credited with encouraging economic growth, have received praise.The Modi government issued a notification allowing Hindu, Sikh, and Buddhist illegal immigrants from Pakistan and Bangladesh to legalise their residency in India.In it, Modi argued that scavenging was a \"spiritual experience\" for Valmiks, a sub-caste of Dalits.'"
      ]
     },
     "execution_count": 111,
     "metadata": {},
     "output_type": "execute_result"
    }
   ],
   "source": [
    "summary"
   ]
  },
  {
   "cell_type": "code",
   "execution_count": null,
   "metadata": {},
   "outputs": [],
   "source": []
  }
 ],
 "metadata": {
  "kernelspec": {
   "display_name": "Python 3",
   "language": "python",
   "name": "python3"
  },
  "language_info": {
   "codemirror_mode": {
    "name": "ipython",
    "version": 3
   },
   "file_extension": ".py",
   "mimetype": "text/x-python",
   "name": "python",
   "nbconvert_exporter": "python",
   "pygments_lexer": "ipython3",
   "version": "3.7.6"
  }
 },
 "nbformat": 4,
 "nbformat_minor": 4
}
